{
  "cells": [
    {
      "cell_type": "code",
      "execution_count": 117,
      "metadata": {
        "colab": {
          "base_uri": "https://localhost:8080/",
          "height": 0
        },
        "collapsed": true,
        "id": "mQdTfktkCX4F",
        "outputId": "87f6a62c-ef0c-41b6-bf25-9256576e62d5"
      },
      "outputs": [
        {
          "name": "stdout",
          "output_type": "stream",
          "text": [
            "Requirement already satisfied: ucimlrepo in /usr/local/lib/python3.10/dist-packages (0.0.7)\n",
            "Requirement already satisfied: pandas>=1.0.0 in /usr/local/lib/python3.10/dist-packages (from ucimlrepo) (2.1.4)\n",
            "Requirement already satisfied: certifi>=2020.12.5 in /usr/local/lib/python3.10/dist-packages (from ucimlrepo) (2024.7.4)\n",
            "Requirement already satisfied: numpy<2,>=1.22.4 in /usr/local/lib/python3.10/dist-packages (from pandas>=1.0.0->ucimlrepo) (1.26.4)\n",
            "Requirement already satisfied: python-dateutil>=2.8.2 in /usr/local/lib/python3.10/dist-packages (from pandas>=1.0.0->ucimlrepo) (2.8.2)\n",
            "Requirement already satisfied: pytz>=2020.1 in /usr/local/lib/python3.10/dist-packages (from pandas>=1.0.0->ucimlrepo) (2024.1)\n",
            "Requirement already satisfied: tzdata>=2022.1 in /usr/local/lib/python3.10/dist-packages (from pandas>=1.0.0->ucimlrepo) (2024.1)\n",
            "Requirement already satisfied: six>=1.5 in /usr/local/lib/python3.10/dist-packages (from python-dateutil>=2.8.2->pandas>=1.0.0->ucimlrepo) (1.16.0)\n"
          ]
        }
      ],
      "source": [
        "!pip install ucimlrepo\n",
        "from ucimlrepo import fetch_ucirepo\n",
        "import pandas as pd\n",
        "import numpy as np\n",
        "import math\n",
        "from sklearn.metrics import confusion_matrix, accuracy_score, roc_curve, auc, precision_recall_curve\n",
        "from sklearn.naive_bayes import GaussianNB\n",
        "import matplotlib.pyplot as plt"
      ]
    },
    {
      "cell_type": "markdown",
      "metadata": {
        "id": "qBv83ggbYvth"
      },
      "source": [
        "Name: Vruddhi Shah"
      ]
    },
    {
      "cell_type": "markdown",
      "metadata": {
        "id": "iRM7aAzOXW4P"
      },
      "source": [
        "#ID3 classifier"
      ]
    },
    {
      "cell_type": "code",
      "execution_count": 102,
      "metadata": {
        "id": "PCiM8Zcvb366"
      },
      "outputs": [],
      "source": [
        "def print_for_dataset(train_data, test_data, attributes, target_attribute, max_depth):\n",
        "    print(\"Naive Bayes:\")\n",
        "    X_train = train_data.drop(target_attribute, axis=1)\n",
        "    y_train = train_data[target_attribute]\n",
        "    X_test = test_data.drop(target_attribute, axis=1)\n",
        "    y_test = test_data[target_attribute]\n",
        "    model = GaussianNB()\n",
        "    model.fit(X_train, y_train)\n",
        "    y_pred = model.predict(X_test)\n",
        "    conf_matrix = confusion_matrix(y_test, y_pred)\n",
        "    accuracy = accuracy_score(y_test, y_pred)\n",
        "    print(\"Confusion Matrix:\")\n",
        "    print(conf_matrix)\n",
        "    print(f\"Accuracy: {accuracy:.4f}\")\n",
        "\n",
        "\n",
        "    predicted = id3(train_data, attributes, target_attribute, max_depth, test_data)\n",
        "    y_true = test_data[target_attribute]\n",
        "    y_pred = predicted['predicted']\n",
        "    print(\"ID3 decision tree:\")\n",
        "    conf_matrix = confusion_matrix(y_true, y_pred)\n",
        "    print(\"Confusion Matrix:\")\n",
        "    print(conf_matrix)\n",
        "\n",
        "    accuracy = accuracy_score(y_true, y_pred)\n",
        "    print(f\"Accuracy: {accuracy:.4f}\")\n",
        "\n"
      ]
    },
    {
      "cell_type": "markdown",
      "metadata": {
        "id": "mebRF15KpElC"
      },
      "source": [
        "#Datasets"
      ]
    },
    {
      "cell_type": "markdown",
      "metadata": {
        "id": "7PZRFMKwXl0Z"
      },
      "source": [
        "Dataset 1 - Iris"
      ]
    },
    {
      "cell_type": "code",
      "execution_count": 85,
      "metadata": {
        "colab": {
          "base_uri": "https://localhost:8080/",
          "height": 0
        },
        "id": "HOyGu1IRXdu6",
        "outputId": "4fa5b8ef-a2d5-42a1-f465-86ec247f321d"
      },
      "outputs": [
        {
          "name": "stdout",
          "output_type": "stream",
          "text": [
            "Naive Bayes:\n",
            "Confusion Matrix:\n",
            "[[10  0  0]\n",
            " [ 0 16  1]\n",
            " [ 0  1 17]]\n",
            "Accuracy: 0.9556\n",
            "ID3 decision tree:\n",
            "Confusion Matrix:\n",
            "[[10  0  0]\n",
            " [ 0 17  0]\n",
            " [ 0  0 18]]\n",
            "Accuracy: 1.0000\n"
          ]
        },
        {
          "name": "stderr",
          "output_type": "stream",
          "text": [
            "<ipython-input-54-b3a49d422ba2>:89: SettingWithCopyWarning: \n",
            "A value is trying to be set on a copy of a slice from a DataFrame.\n",
            "Try using .loc[row_indexer,col_indexer] = value instead\n",
            "\n",
            "See the caveats in the documentation: https://pandas.pydata.org/pandas-docs/stable/user_guide/indexing.html#returning-a-view-versus-a-copy\n",
            "  predict_data['predicted'] = predicted_results\n"
          ]
        }
      ],
      "source": [
        "iris = fetch_ucirepo(id=53)\n",
        "\n",
        "data = pd.DataFrame(iris.data.features)\n",
        "target = pd.DataFrame(iris.data.targets)\n",
        "\n",
        "\n",
        "if target.shape[1] == 1:\n",
        "    data = pd.concat([data, target], axis=1)\n",
        "\n",
        "\n",
        "shuffled_data = data.sample(frac=1, random_state=42).reset_index(drop=True)\n",
        "\n",
        "split_index = int(0.7 * len(shuffled_data))\n",
        "train_data = shuffled_data[:split_index]\n",
        "test_data = shuffled_data[split_index:]\n",
        "\n",
        "\n",
        "attributes = data.columns.tolist()\n",
        "target_attribute = 'class'\n",
        "max_depth = 10\n",
        "print_for_dataset(train_data, test_data, attributes, target_attribute, max_depth)"
      ]
    },
    {
      "cell_type": "markdown",
      "metadata": {
        "id": "vECteFNjX3O7"
      },
      "source": [
        "Dataset 2 - Wine dataset\n",
        "\n",
        "\n",
        "\n"
      ]
    },
    {
      "cell_type": "code",
      "execution_count": 86,
      "metadata": {
        "colab": {
          "base_uri": "https://localhost:8080/",
          "height": 0
        },
        "id": "U0vORjPiZY8U",
        "outputId": "3a9462e9-f25a-4070-a03f-4f5c49693486"
      },
      "outputs": [
        {
          "name": "stdout",
          "output_type": "stream",
          "text": [
            "Naive Bayes:\n",
            "Confusion Matrix:\n",
            "[[15  0  0]\n",
            " [ 0 20  2]\n",
            " [ 0  0 17]]\n",
            "Accuracy: 0.9630\n",
            "ID3 decision tree:\n",
            "Confusion Matrix:\n",
            "[[15  0  0]\n",
            " [ 0 22  0]\n",
            " [ 0  0 17]]\n",
            "Accuracy: 1.0000\n"
          ]
        },
        {
          "name": "stderr",
          "output_type": "stream",
          "text": [
            "<ipython-input-54-b3a49d422ba2>:89: SettingWithCopyWarning: \n",
            "A value is trying to be set on a copy of a slice from a DataFrame.\n",
            "Try using .loc[row_indexer,col_indexer] = value instead\n",
            "\n",
            "See the caveats in the documentation: https://pandas.pydata.org/pandas-docs/stable/user_guide/indexing.html#returning-a-view-versus-a-copy\n",
            "  predict_data['predicted'] = predicted_results\n"
          ]
        }
      ],
      "source": [
        "wine = fetch_ucirepo(id=109)\n",
        "data = pd.DataFrame(wine.data.features)\n",
        "target = pd.DataFrame(wine.data.targets)\n",
        "\n",
        "if target.shape[1] == 1:\n",
        "    data = pd.concat([data, target], axis=1)\n",
        "\n",
        "\n",
        "shuffled_data = data.sample(frac=1, random_state=42).reset_index(drop=True)\n",
        "\n",
        "split_index = int(0.7 * len(shuffled_data))\n",
        "train_data = shuffled_data[:split_index]\n",
        "test_data = shuffled_data[split_index:]\n",
        "\n",
        "\n",
        "attributes = data.columns.tolist()\n",
        "\n",
        "target_attribute = 'class'\n",
        "max_depth = 10\n",
        "print_for_dataset(train_data, test_data, attributes, target_attribute, max_depth)"
      ]
    },
    {
      "cell_type": "markdown",
      "metadata": {
        "id": "qbvqZz9fbg3Z"
      },
      "source": [
        "Dataset 3 - Breast Cancer Wisconsin (Diagnostic)"
      ]
    },
    {
      "cell_type": "code",
      "execution_count": 103,
      "metadata": {
        "colab": {
          "base_uri": "https://localhost:8080/",
          "height": 0
        },
        "id": "uh2HIshPbja9",
        "outputId": "972559ed-27d6-47e1-fb48-c6c20d6a0f85"
      },
      "outputs": [
        {
          "name": "stdout",
          "output_type": "stream",
          "text": [
            "Naive Bayes:\n",
            "Confusion Matrix:\n",
            "[[97  2]\n",
            " [12 60]]\n",
            "Accuracy: 0.9181\n",
            "ID3 decision tree:\n",
            "Confusion Matrix:\n",
            "[[99  0]\n",
            " [ 0 72]]\n",
            "Accuracy: 1.0000\n"
          ]
        },
        {
          "name": "stderr",
          "output_type": "stream",
          "text": [
            "<ipython-input-54-b3a49d422ba2>:89: SettingWithCopyWarning: \n",
            "A value is trying to be set on a copy of a slice from a DataFrame.\n",
            "Try using .loc[row_indexer,col_indexer] = value instead\n",
            "\n",
            "See the caveats in the documentation: https://pandas.pydata.org/pandas-docs/stable/user_guide/indexing.html#returning-a-view-versus-a-copy\n",
            "  predict_data['predicted'] = predicted_results\n"
          ]
        }
      ],
      "source": [
        "cancer = fetch_ucirepo(id=17)\n",
        "data = pd.DataFrame(cancer.data.features)\n",
        "target = pd.DataFrame(cancer.data.targets)\n",
        "\n",
        "if target.shape[1] == 1:\n",
        "    data = pd.concat([data, target], axis=1)\n",
        "\n",
        "\n",
        "shuffled_data = data.sample(frac=1, random_state=42).reset_index(drop=True)\n",
        "\n",
        "split_index = int(0.7 * len(shuffled_data))\n",
        "train_data = shuffled_data[:split_index]\n",
        "test_data = shuffled_data[split_index:]\n",
        "\n",
        "\n",
        "attributes = data.columns.tolist()\n",
        "\n",
        "\n",
        "target_attribute = 'Diagnosis'\n",
        "max_depth = 10\n",
        "print_for_dataset(train_data, test_data, attributes, target_attribute, max_depth)"
      ]
    },
    {
      "cell_type": "markdown",
      "metadata": {
        "id": "7pQQl4rcetAT"
      },
      "source": [
        "Dataset 4 - Raisin"
      ]
    },
    {
      "cell_type": "code",
      "execution_count": 108,
      "metadata": {
        "colab": {
          "base_uri": "https://localhost:8080/",
          "height": 0
        },
        "id": "h2m9nj2PexGi",
        "outputId": "a7ca7d2c-38d4-44d7-f386-1e8e441d7bfc"
      },
      "outputs": [
        {
          "name": "stdout",
          "output_type": "stream",
          "text": [
            "Naive Bayes:\n",
            "Confusion Matrix:\n",
            "[[ 99  47]\n",
            " [  5 119]]\n",
            "Accuracy: 0.8074\n",
            "ID3 decision tree:\n",
            "Confusion Matrix:\n",
            "[[  0 146]\n",
            " [  0 124]]\n",
            "Accuracy: 0.4593\n"
          ]
        },
        {
          "name": "stderr",
          "output_type": "stream",
          "text": [
            "<ipython-input-54-b3a49d422ba2>:89: SettingWithCopyWarning: \n",
            "A value is trying to be set on a copy of a slice from a DataFrame.\n",
            "Try using .loc[row_indexer,col_indexer] = value instead\n",
            "\n",
            "See the caveats in the documentation: https://pandas.pydata.org/pandas-docs/stable/user_guide/indexing.html#returning-a-view-versus-a-copy\n",
            "  predict_data['predicted'] = predicted_results\n"
          ]
        }
      ],
      "source": [
        "raisin = fetch_ucirepo(id=850)\n",
        "data = pd.DataFrame(raisin.data.features)\n",
        "target = pd.DataFrame(raisin.data.targets)\n",
        "\n",
        "if target.shape[1] == 1:\n",
        "    data = pd.concat([data, target], axis=1)\n",
        "\n",
        "\n",
        "shuffled_data = data.sample(frac=1, random_state=42).reset_index(drop=True)\n",
        "\n",
        "split_index = int(0.7 * len(shuffled_data))\n",
        "train_data = shuffled_data[:split_index]\n",
        "test_data = shuffled_data[split_index:]\n",
        "\n",
        "\n",
        "attributes = data.columns.tolist()\n",
        "\n",
        "\n",
        "target_attribute = 'Class'\n",
        "max_depth = 10\n",
        "print_for_dataset(train_data, test_data, attributes, target_attribute, max_depth)"
      ]
    },
    {
      "cell_type": "markdown",
      "metadata": {
        "id": "zVYpp--4fsum"
      },
      "source": [
        "Dataset 5 - Rice"
      ]
    },
    {
      "cell_type": "code",
      "execution_count": 107,
      "metadata": {
        "colab": {
          "base_uri": "https://localhost:8080/",
          "height": 0
        },
        "id": "wwjzBNr6fwEp",
        "outputId": "f6c7d196-18d5-44c9-fb43-41919eb51368"
      },
      "outputs": [
        {
          "name": "stdout",
          "output_type": "stream",
          "text": [
            "Naive Bayes:\n",
            "Confusion Matrix:\n",
            "[[427  54]\n",
            " [ 59 603]]\n",
            "Accuracy: 0.9011\n",
            "ID3 decision tree:\n",
            "Confusion Matrix:\n",
            "[[  0 481]\n",
            " [  0 662]]\n",
            "Accuracy: 0.5792\n"
          ]
        },
        {
          "name": "stderr",
          "output_type": "stream",
          "text": [
            "<ipython-input-54-b3a49d422ba2>:89: SettingWithCopyWarning: \n",
            "A value is trying to be set on a copy of a slice from a DataFrame.\n",
            "Try using .loc[row_indexer,col_indexer] = value instead\n",
            "\n",
            "See the caveats in the documentation: https://pandas.pydata.org/pandas-docs/stable/user_guide/indexing.html#returning-a-view-versus-a-copy\n",
            "  predict_data['predicted'] = predicted_results\n"
          ]
        }
      ],
      "source": [
        "rice = fetch_ucirepo(id=545)\n",
        "data = pd.DataFrame(rice.data.features)\n",
        "target = pd.DataFrame(rice.data.targets)\n",
        "\n",
        "if target.shape[1] == 1:\n",
        "    data = pd.concat([data, target], axis=1)\n",
        "\n",
        "\n",
        "shuffled_data = data.sample(frac=1, random_state=42).reset_index(drop=True)\n",
        "\n",
        "split_index = int(0.7 * len(shuffled_data))\n",
        "train_data = shuffled_data[:split_index]\n",
        "test_data = shuffled_data[split_index:]\n",
        "\n",
        "\n",
        "attributes = data.columns.tolist()\n",
        "\n",
        "\n",
        "target_attribute = 'Class'\n",
        "max_depth = 10\n",
        "print_for_dataset(train_data, test_data, attributes, target_attribute, max_depth)"
      ]
    },
    {
      "cell_type": "markdown",
      "metadata": {
        "id": "VTuC_FPdjWiQ"
      },
      "source": [
        "AUROC and precision-recall curves (dataset 5)"
      ]
    },
    {
      "cell_type": "code",
      "execution_count": 118,
      "metadata": {
        "id": "gkvDnQmijZBw"
      },
      "outputs": [],
      "source": [
        "rice = fetch_ucirepo(id=545)\n",
        "data = pd.DataFrame(rice.data.features)\n",
        "target = pd.DataFrame(rice.data.targets)\n",
        "\n",
        "target_mapping = {label: idx for idx, label in enumerate(target['Class'].unique())}\n",
        "target = target['Class'].map(target_mapping)\n",
        "data = pd.concat([data, target], axis=1)\n",
        "shuffled_data = data.sample(frac=1, random_state=42).reset_index(drop=True)\n",
        "\n",
        "split_index = int(0.7 * len(shuffled_data))\n",
        "train_data = shuffled_data[:split_index]\n",
        "test_data = shuffled_data[split_index:]\n",
        "X_train = train_data.drop(target_attribute, axis=1)\n",
        "y_train = train_data[target_attribute]\n",
        "X_test = test_data.drop(target_attribute, axis=1)\n",
        "y_test = test_data[target_attribute]\n",
        "model = GaussianNB()\n",
        "model.fit(X_train, y_train)\n",
        "y_pred_proba_nb = model.predict_proba(X_test)[:, 1]\n",
        "\n",
        "\n",
        "\n",
        "fpr_nb, tpr_nb, _ = roc_curve(y_test, y_pred_proba_nb)\n",
        "roc_auc_nb = auc(fpr_nb, tpr_nb)\n",
        "\n",
        "\n",
        "\n"
      ]
    },
    {
      "cell_type": "code",
      "execution_count": 120,
      "metadata": {
        "colab": {
          "base_uri": "https://localhost:8080/",
          "height": 472
        },
        "id": "zdRr1ihOlhe6",
        "outputId": "9664eafc-8342-46f1-efc8-988f8600efa6"
      },
      "outputs": [
        {
          "data": {
            "image/png": "[encoded data removed]",
            "text/plain": [
              "<Figure size 640x480 with 1 Axes>"
            ]
          },
          "metadata": {},
          "output_type": "display_data"
        }
      ],
      "source": [
        "from sklearn.tree import DecisionTreeClassifier\n",
        "model_dt = DecisionTreeClassifier()\n",
        "model_dt.fit(X_train, y_train)\n",
        "y_pred_proba_dt = model_dt.predict_proba(X_test)[:, 1]\n",
        "fpr_dt, tpr_dt, _ = roc_curve(y_test, y_pred_proba_dt)\n",
        "roc_auc_dt = auc(fpr_dt, tpr_dt)\n",
        "\n",
        "plt.figure()\n",
        "\n",
        "\n",
        "plt.plot(fpr_nb, tpr_nb, color='blue', lw=2, label='Naive Bayes (AUROC = %0.2f)' % roc_auc_nb)\n",
        "\n",
        "\n",
        "plt.plot(fpr_dt, tpr_dt, color='green', lw=2, label='Decision Tree (AUROC = %0.2f)' % roc_auc_dt)\n",
        "\n",
        "\n",
        "plt.plot([0, 1], [0, 1], color='gray', linestyle='--')\n",
        "plt.xlim([0.0, 1.0])\n",
        "plt.ylim([0.0, 1.05])\n",
        "plt.xlabel('False Positive Rate')\n",
        "plt.ylabel('True Positive Rate')\n",
        "plt.title('Receiver Operating Characteristic Comparison')\n",
        "plt.legend(loc=\"lower right\")\n",
        "plt.show()"
      ]
    },
    {
      "cell_type": "code",
      "execution_count": 121,
      "metadata": {
        "colab": {
          "base_uri": "https://localhost:8080/",
          "height": 472
        },
        "id": "ChdSKOHJmTr0",
        "outputId": "a2a0d425-0dfd-4933-ff0d-c36a63372c09"
      },
      "outputs": [
        {
          "data": {
            "image/png": "[encoded data removed]",
            "text/plain": [
              "<Figure size 640x480 with 1 Axes>"
            ]
          },
          "metadata": {},
          "output_type": "display_data"
        }
      ],
      "source": [
        "\n",
        "precision_nb, recall_nb, _ = precision_recall_curve(y_test, y_pred_proba_nb)\n",
        "\n",
        "precision_dt, recall_dt, _ = precision_recall_curve(y_test, y_pred_proba_dt)\n",
        "\n",
        "plt.figure()\n",
        "\n",
        "plt.plot(recall_nb, precision_nb, color='blue', lw=2, label='Naive Bayes')\n",
        "\n",
        "plt.plot(recall_dt, precision_dt, color='green', lw=2, label='Decision Tree')\n",
        "\n",
        "plt.xlabel('Recall')\n",
        "plt.ylabel('Precision')\n",
        "plt.title('Precision-Recall Curve Comparison')\n",
        "plt.legend(loc=\"lower left\")\n",
        "plt.show()\n"
      ]
    },
    {
      "cell_type": "markdown",
      "metadata": {
        "id": "fRb3UKAPmm5F"
      },
      "source": [
        "MOdified NB to use k-fold cross validation (dataset 5)"
      ]
    },
    {
      "cell_type": "code",
      "execution_count": 124,
      "metadata": {
        "colab": {
          "base_uri": "https://localhost:8080/",
          "height": 0
        },
        "id": "2WatmJVzmxrT",
        "outputId": "50c3e077-50f4-4ded-d420-6d75477cfd63"
      },
      "outputs": [
        {
          "name": "stdout",
          "output_type": "stream",
          "text": [
            "Naive Bayes Model (K-Fold Cross-Validation):\n",
            "Confusion Matrix:\n",
            "[[1022  127]\n",
            " [ 103 1415]]\n",
            "Accuracy: 0.91\n"
          ]
        }
      ],
      "source": [
        "from sklearn.model_selection import KFold, cross_val_score\n",
        "from sklearn.ensemble import BaggingClassifier, VotingClassifier\n",
        "\n",
        "nb_model = GaussianNB()\n",
        "\n",
        "kf = KFold(n_splits=5, shuffle=True, random_state=42)\n",
        "\n",
        "all_y_true = []\n",
        "all_y_pred = []\n",
        "\n",
        "for train_index, test_index in kf.split(X_train):\n",
        "    X_train_fold, X_test_fold = X_train.iloc[train_index], X_train.iloc[test_index]\n",
        "    y_train_fold, y_test_fold = y_train.iloc[train_index], y_train.iloc[test_index]\n",
        "\n",
        "    nb_model.fit(X_train_fold, y_train_fold)\n",
        "\n",
        "    y_pred_fold = nb_model.predict(X_test_fold)\n",
        "\n",
        "    all_y_true.extend(y_test_fold)\n",
        "    all_y_pred.extend(y_pred_fold)\n",
        "\n",
        "all_y_true = np.array(all_y_true)\n",
        "all_y_pred = np.array(all_y_pred)\n",
        "\n",
        "conf_matrix_nb = confusion_matrix(all_y_true, all_y_pred)\n",
        "accuracy_nb = accuracy_score(all_y_true, all_y_pred)\n",
        "\n",
        "print(\"Naive Bayes Model (K-Fold Cross-Validation):\")\n",
        "print(\"Confusion Matrix:\")\n",
        "print(conf_matrix_nb)\n",
        "print(f\"Accuracy: {accuracy_nb:.2f}\")\n",
        "\n",
        "\n"
      ]
    }
  ],
  "metadata": {
    "colab": {
      "provenance": []
    },
    "kernelspec": {
      "display_name": "Python 3",
      "name": "python3"
    },
    "language_info": {
      "name": "python"
    }
  },
  "nbformat": 4,
  "nbformat_minor": 0
}
